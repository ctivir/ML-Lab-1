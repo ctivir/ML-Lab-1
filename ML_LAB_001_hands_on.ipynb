{
  "nbformat": 4,
  "nbformat_minor": 0,
  "metadata": {
    "colab": {
      "provenance": [],
      "include_colab_link": true
    },
    "kernelspec": {
      "name": "python3",
      "display_name": "Python 3"
    },
    "language_info": {
      "name": "python"
    }
  },
  "cells": [
    {
      "cell_type": "markdown",
      "metadata": {
        "id": "view-in-github",
        "colab_type": "text"
      },
      "source": [
        "<a href=\"https://colab.research.google.com/github/EuclidesDoRosario/ML-Lab-1/blob/main/ML_LAB_001_hands_on.ipynb\" target=\"_parent\"><img src=\"https://colab.research.google.com/assets/colab-badge.svg\" alt=\"Open In Colab\"/></a>"
      ]
    },
    {
      "cell_type": "markdown",
      "source": [
        "#Configuração do kaggle\n",
        "NB: Se ainda não tem uma conta kaggle, por favor siga o seguinte vídeo: https://www.youtube.com/watch?v=rO8mkmzVmRI\n",
        "\n",
        "É importante que tenha uma conta kaggle para continuar com esse lab."
      ],
      "metadata": {
        "id": "xYG1x2xVAKha"
      }
    },
    {
      "cell_type": "code",
      "execution_count": null,
      "metadata": {
        "id": "O7lAIaU1Ou3u"
      },
      "outputs": [],
      "source": [
        "! pip install -q kaggle"
      ]
    },
    {
      "cell_type": "code",
      "source": [
        "from google.colab import drive\n",
        "drive.mount('/content/drive')"
      ],
      "metadata": {
        "colab": {
          "base_uri": "https://localhost:8080/"
        },
        "id": "nxWA2zofO7St",
        "outputId": "604352f4-6c36-403f-87f8-a216c51e3a88"
      },
      "execution_count": null,
      "outputs": [
        {
          "output_type": "stream",
          "name": "stdout",
          "text": [
            "Mounted at /content/drive\n"
          ]
        }
      ]
    },
    {
      "cell_type": "code",
      "source": [
        "! mkdir ~/.kaggle"
      ],
      "metadata": {
        "id": "5nlYDcmqPTi6"
      },
      "execution_count": null,
      "outputs": []
    },
    {
      "cell_type": "code",
      "source": [
        "! cp /content/drive/MyDrive/KAGGLE_AUTH/kaggle.json ~/.kaggle"
      ],
      "metadata": {
        "id": "_P2NOyEoQBkQ"
      },
      "execution_count": null,
      "outputs": []
    },
    {
      "cell_type": "code",
      "source": [
        "!chmod 600 ~/.kaggle/kaggle.json"
      ],
      "metadata": {
        "id": "Pp92SAJ6QXi-"
      },
      "execution_count": null,
      "outputs": []
    },
    {
      "cell_type": "markdown",
      "source": [
        "##Carregar o dataset do Kaggle\n"
      ],
      "metadata": {
        "id": "Pe5gvQTkCnPC"
      }
    },
    {
      "cell_type": "code",
      "source": [
        "! kaggle datasets download taeefnajib/used-car-price-prediction-dataset"
      ],
      "metadata": {
        "colab": {
          "base_uri": "https://localhost:8080/"
        },
        "id": "eF4L_83oQjwz",
        "outputId": "4b583269-75b3-415d-eae1-a9c177ba6f67"
      },
      "execution_count": null,
      "outputs": [
        {
          "output_type": "stream",
          "name": "stdout",
          "text": [
            "Dataset URL: https://www.kaggle.com/datasets/taeefnajib/used-car-price-prediction-dataset\n",
            "License(s): Attribution 4.0 International (CC BY 4.0)\n",
            "Downloading used-car-price-prediction-dataset.zip to /content\n",
            "  0% 0.00/109k [00:00<?, ?B/s]\n",
            "100% 109k/109k [00:00<00:00, 37.4MB/s]\n"
          ]
        }
      ]
    },
    {
      "cell_type": "code",
      "source": [
        "!unzip /content/used-car-price-prediction-dataset.zip"
      ],
      "metadata": {
        "colab": {
          "base_uri": "https://localhost:8080/"
        },
        "id": "vuEnlO8BQ6zO",
        "outputId": "02582f65-c0ec-47d5-ea71-cd7281ed1157"
      },
      "execution_count": null,
      "outputs": [
        {
          "output_type": "stream",
          "name": "stdout",
          "text": [
            "Archive:  /content/used-car-price-prediction-dataset.zip\n",
            "  inflating: used_cars.csv           \n"
          ]
        }
      ]
    },
    {
      "cell_type": "markdown",
      "source": [
        "#Importar os módulos"
      ],
      "metadata": {
        "id": "K-kAjkCNDDJ0"
      }
    },
    {
      "cell_type": "code",
      "source": [
        "#Esses módulos podem ser substituídos ou também pode adicionar novos módulos.\n",
        "import numpy as np\n",
        "import pandas as pd\n",
        "import matplotlib.pyplot as plt\n",
        "import seaborn as sns\n",
        "from sklearn.preprocessing import StandardScaler, LabelEncoder\n",
        "from sklearn.model_selection import train_test_split\n",
        "from sklearn.linear_model import LogisticRegression, LinearRegression\n",
        "from sklearn.metrics import mean_squared_error, r2_score, accuracy_score\n",
        "from sklearn.impute import SimpleImputer\n",
        "\n",
        "import warnings\n",
        "warnings.filterwarnings('ignore')"
      ],
      "metadata": {
        "id": "nQcOBv65CpLS"
      },
      "execution_count": null,
      "outputs": []
    },
    {
      "cell_type": "markdown",
      "source": [
        "#Ler os dados do nosso dataset"
      ],
      "metadata": {
        "id": "AwejMoCmFYsK"
      }
    },
    {
      "cell_type": "code",
      "source": [
        "df = pd.read_csv('/content/used_cars.csv')"
      ],
      "metadata": {
        "id": "8iPRvSnTFXIP"
      },
      "execution_count": null,
      "outputs": []
    },
    {
      "cell_type": "markdown",
      "source": [
        "#Sobre os dados:\n",
        "O Conjunto de Dados de Previsão de Preços de Carros Usados é uma coleção abrangente de informações automotivas extraídas do popular site de mercado automotivo, https://www.cars.com. Este conjunto de dados compreende 4.009 pontos de dados, cada um representando uma lista única de veículos, e inclui nove características distintas que fornecem insights valiosos sobre o mundo dos automóveis.\n",
        "\n",
        "    Brand & Model: Identifica a marca ou o nome da empresa juntamente com o modelo específico de cada veículo.\n",
        "    Model Year: Descubra o ano de fabricação dos veículos, crucial para avaliar a depreciação e os avanços tecnológicos.\n",
        "    Mileage: Obtenha a quilometragem de cada veículo, um indicador chave de desgaste e possíveis necessidades de manutenção.\n",
        "    Fuel Type: Saiba sobre o tipo de combustível utilizado pelos veículos, seja gasolina, diesel, elétrico ou híbrido.\n",
        "    Engine Type: Compreenda as especificações do motor, lançando luz sobre o desempenho e a eficiência.\n",
        "    Transmission: Determine o tipo de transmissão, seja automática, manual ou outra variante.\n",
        "    Exterior & Interior Colors: Explore os aspectos estéticos dos veículos, incluindo opções de cores externas e internas.\n",
        "    Accident History: Descubra se um veículo tem um histórico anterior de acidentes ou danos, crucial para uma tomada de decisão informada.\n",
        "    Clean Title: Avalie a disponibilidade de um título limpo, que pode impactar o valor de revenda e o status legal do veículo.\n",
        "    Price: Acesse os preços listados para cada veículo, ajudando na comparação de preços e no planejamento do orçamento.\n",
        "\n",
        "Este conjunto de dados é um recurso valioso para entusiastas automotivos, compradores e pesquisadores interessados em analisar tendências, tomar decisões de compra informadas ou realizar estudos relacionados à indústria automotiva e às preferências dos consumidores. Seja você um analista de dados, comprador de carros ou pesquisador, este conjunto de dados oferece uma riqueza de informações para explorar e analisar."
      ],
      "metadata": {
        "id": "_nv-JwkzI2lx"
      }
    },
    {
      "cell_type": "markdown",
      "source": [
        "#Data Check"
      ],
      "metadata": {
        "id": "V9baV7vjF2iR"
      }
    },
    {
      "cell_type": "code",
      "source": [
        "#Vamos visualizar alguns dados do dataset\n",
        "df.head()"
      ],
      "metadata": {
        "colab": {
          "base_uri": "https://localhost:8080/",
          "height": 538
        },
        "id": "XsroLsJ9HY7U",
        "outputId": "9879f56a-5d6d-4a59-9869-76cba77820b1"
      },
      "execution_count": null,
      "outputs": [
        {
          "output_type": "execute_result",
          "data": {
            "text/plain": [
              "      brand                            model  model_year      milage  \\\n",
              "0      Ford  Utility Police Interceptor Base        2013  51,000 mi.   \n",
              "1   Hyundai                     Palisade SEL        2021  34,742 mi.   \n",
              "2     Lexus                    RX 350 RX 350        2022  22,372 mi.   \n",
              "3  INFINITI                 Q50 Hybrid Sport        2015  88,900 mi.   \n",
              "4      Audi        Q3 45 S line Premium Plus        2021   9,835 mi.   \n",
              "\n",
              "       fuel_type                                             engine  \\\n",
              "0  E85 Flex Fuel  300.0HP 3.7L V6 Cylinder Engine Flex Fuel Capa...   \n",
              "1       Gasoline                               3.8L V6 24V GDI DOHC   \n",
              "2       Gasoline                                     3.5 Liter DOHC   \n",
              "3         Hybrid  354.0HP 3.5L V6 Cylinder Engine Gas/Electric H...   \n",
              "4       Gasoline                         2.0L I4 16V GDI DOHC Turbo   \n",
              "\n",
              "        transmission                 ext_col int_col  \\\n",
              "0        6-Speed A/T                   Black   Black   \n",
              "1  8-Speed Automatic         Moonlight Cloud    Gray   \n",
              "2          Automatic                    Blue   Black   \n",
              "3        7-Speed A/T                   Black   Black   \n",
              "4  8-Speed Automatic  Glacier White Metallic   Black   \n",
              "\n",
              "                                 accident clean_title    price  \n",
              "0  At least 1 accident or damage reported         Yes  $10,300  \n",
              "1  At least 1 accident or damage reported         Yes  $38,005  \n",
              "2                           None reported         NaN  $54,598  \n",
              "3                           None reported         Yes  $15,500  \n",
              "4                           None reported         NaN  $34,999  "
            ],
            "text/html": [
              "\n",
              "  <div id=\"df-bfe5185b-c86d-48be-997a-089cedb23c40\" class=\"colab-df-container\">\n",
              "    <div>\n",
              "<style scoped>\n",
              "    .dataframe tbody tr th:only-of-type {\n",
              "        vertical-align: middle;\n",
              "    }\n",
              "\n",
              "    .dataframe tbody tr th {\n",
              "        vertical-align: top;\n",
              "    }\n",
              "\n",
              "    .dataframe thead th {\n",
              "        text-align: right;\n",
              "    }\n",
              "</style>\n",
              "<table border=\"1\" class=\"dataframe\">\n",
              "  <thead>\n",
              "    <tr style=\"text-align: right;\">\n",
              "      <th></th>\n",
              "      <th>brand</th>\n",
              "      <th>model</th>\n",
              "      <th>model_year</th>\n",
              "      <th>milage</th>\n",
              "      <th>fuel_type</th>\n",
              "      <th>engine</th>\n",
              "      <th>transmission</th>\n",
              "      <th>ext_col</th>\n",
              "      <th>int_col</th>\n",
              "      <th>accident</th>\n",
              "      <th>clean_title</th>\n",
              "      <th>price</th>\n",
              "    </tr>\n",
              "  </thead>\n",
              "  <tbody>\n",
              "    <tr>\n",
              "      <th>0</th>\n",
              "      <td>Ford</td>\n",
              "      <td>Utility Police Interceptor Base</td>\n",
              "      <td>2013</td>\n",
              "      <td>51,000 mi.</td>\n",
              "      <td>E85 Flex Fuel</td>\n",
              "      <td>300.0HP 3.7L V6 Cylinder Engine Flex Fuel Capa...</td>\n",
              "      <td>6-Speed A/T</td>\n",
              "      <td>Black</td>\n",
              "      <td>Black</td>\n",
              "      <td>At least 1 accident or damage reported</td>\n",
              "      <td>Yes</td>\n",
              "      <td>$10,300</td>\n",
              "    </tr>\n",
              "    <tr>\n",
              "      <th>1</th>\n",
              "      <td>Hyundai</td>\n",
              "      <td>Palisade SEL</td>\n",
              "      <td>2021</td>\n",
              "      <td>34,742 mi.</td>\n",
              "      <td>Gasoline</td>\n",
              "      <td>3.8L V6 24V GDI DOHC</td>\n",
              "      <td>8-Speed Automatic</td>\n",
              "      <td>Moonlight Cloud</td>\n",
              "      <td>Gray</td>\n",
              "      <td>At least 1 accident or damage reported</td>\n",
              "      <td>Yes</td>\n",
              "      <td>$38,005</td>\n",
              "    </tr>\n",
              "    <tr>\n",
              "      <th>2</th>\n",
              "      <td>Lexus</td>\n",
              "      <td>RX 350 RX 350</td>\n",
              "      <td>2022</td>\n",
              "      <td>22,372 mi.</td>\n",
              "      <td>Gasoline</td>\n",
              "      <td>3.5 Liter DOHC</td>\n",
              "      <td>Automatic</td>\n",
              "      <td>Blue</td>\n",
              "      <td>Black</td>\n",
              "      <td>None reported</td>\n",
              "      <td>NaN</td>\n",
              "      <td>$54,598</td>\n",
              "    </tr>\n",
              "    <tr>\n",
              "      <th>3</th>\n",
              "      <td>INFINITI</td>\n",
              "      <td>Q50 Hybrid Sport</td>\n",
              "      <td>2015</td>\n",
              "      <td>88,900 mi.</td>\n",
              "      <td>Hybrid</td>\n",
              "      <td>354.0HP 3.5L V6 Cylinder Engine Gas/Electric H...</td>\n",
              "      <td>7-Speed A/T</td>\n",
              "      <td>Black</td>\n",
              "      <td>Black</td>\n",
              "      <td>None reported</td>\n",
              "      <td>Yes</td>\n",
              "      <td>$15,500</td>\n",
              "    </tr>\n",
              "    <tr>\n",
              "      <th>4</th>\n",
              "      <td>Audi</td>\n",
              "      <td>Q3 45 S line Premium Plus</td>\n",
              "      <td>2021</td>\n",
              "      <td>9,835 mi.</td>\n",
              "      <td>Gasoline</td>\n",
              "      <td>2.0L I4 16V GDI DOHC Turbo</td>\n",
              "      <td>8-Speed Automatic</td>\n",
              "      <td>Glacier White Metallic</td>\n",
              "      <td>Black</td>\n",
              "      <td>None reported</td>\n",
              "      <td>NaN</td>\n",
              "      <td>$34,999</td>\n",
              "    </tr>\n",
              "  </tbody>\n",
              "</table>\n",
              "</div>\n",
              "    <div class=\"colab-df-buttons\">\n",
              "\n",
              "  <div class=\"colab-df-container\">\n",
              "    <button class=\"colab-df-convert\" onclick=\"convertToInteractive('df-bfe5185b-c86d-48be-997a-089cedb23c40')\"\n",
              "            title=\"Convert this dataframe to an interactive table.\"\n",
              "            style=\"display:none;\">\n",
              "\n",
              "  <svg xmlns=\"http://www.w3.org/2000/svg\" height=\"24px\" viewBox=\"0 -960 960 960\">\n",
              "    <path d=\"M120-120v-720h720v720H120Zm60-500h600v-160H180v160Zm220 220h160v-160H400v160Zm0 220h160v-160H400v160ZM180-400h160v-160H180v160Zm440 0h160v-160H620v160ZM180-180h160v-160H180v160Zm440 0h160v-160H620v160Z\"/>\n",
              "  </svg>\n",
              "    </button>\n",
              "\n",
              "  <style>\n",
              "    .colab-df-container {\n",
              "      display:flex;\n",
              "      gap: 12px;\n",
              "    }\n",
              "\n",
              "    .colab-df-convert {\n",
              "      background-color: #E8F0FE;\n",
              "      border: none;\n",
              "      border-radius: 50%;\n",
              "      cursor: pointer;\n",
              "      display: none;\n",
              "      fill: #1967D2;\n",
              "      height: 32px;\n",
              "      padding: 0 0 0 0;\n",
              "      width: 32px;\n",
              "    }\n",
              "\n",
              "    .colab-df-convert:hover {\n",
              "      background-color: #E2EBFA;\n",
              "      box-shadow: 0px 1px 2px rgba(60, 64, 67, 0.3), 0px 1px 3px 1px rgba(60, 64, 67, 0.15);\n",
              "      fill: #174EA6;\n",
              "    }\n",
              "\n",
              "    .colab-df-buttons div {\n",
              "      margin-bottom: 4px;\n",
              "    }\n",
              "\n",
              "    [theme=dark] .colab-df-convert {\n",
              "      background-color: #3B4455;\n",
              "      fill: #D2E3FC;\n",
              "    }\n",
              "\n",
              "    [theme=dark] .colab-df-convert:hover {\n",
              "      background-color: #434B5C;\n",
              "      box-shadow: 0px 1px 3px 1px rgba(0, 0, 0, 0.15);\n",
              "      filter: drop-shadow(0px 1px 2px rgba(0, 0, 0, 0.3));\n",
              "      fill: #FFFFFF;\n",
              "    }\n",
              "  </style>\n",
              "\n",
              "    <script>\n",
              "      const buttonEl =\n",
              "        document.querySelector('#df-bfe5185b-c86d-48be-997a-089cedb23c40 button.colab-df-convert');\n",
              "      buttonEl.style.display =\n",
              "        google.colab.kernel.accessAllowed ? 'block' : 'none';\n",
              "\n",
              "      async function convertToInteractive(key) {\n",
              "        const element = document.querySelector('#df-bfe5185b-c86d-48be-997a-089cedb23c40');\n",
              "        const dataTable =\n",
              "          await google.colab.kernel.invokeFunction('convertToInteractive',\n",
              "                                                    [key], {});\n",
              "        if (!dataTable) return;\n",
              "\n",
              "        const docLinkHtml = 'Like what you see? Visit the ' +\n",
              "          '<a target=\"_blank\" href=https://colab.research.google.com/notebooks/data_table.ipynb>data table notebook</a>'\n",
              "          + ' to learn more about interactive tables.';\n",
              "        element.innerHTML = '';\n",
              "        dataTable['output_type'] = 'display_data';\n",
              "        await google.colab.output.renderOutput(dataTable, element);\n",
              "        const docLink = document.createElement('div');\n",
              "        docLink.innerHTML = docLinkHtml;\n",
              "        element.appendChild(docLink);\n",
              "      }\n",
              "    </script>\n",
              "  </div>\n",
              "\n",
              "\n",
              "<div id=\"df-3930fa3d-57f2-4ed9-a849-1acae631cb04\">\n",
              "  <button class=\"colab-df-quickchart\" onclick=\"quickchart('df-3930fa3d-57f2-4ed9-a849-1acae631cb04')\"\n",
              "            title=\"Suggest charts\"\n",
              "            style=\"display:none;\">\n",
              "\n",
              "<svg xmlns=\"http://www.w3.org/2000/svg\" height=\"24px\"viewBox=\"0 0 24 24\"\n",
              "     width=\"24px\">\n",
              "    <g>\n",
              "        <path d=\"M19 3H5c-1.1 0-2 .9-2 2v14c0 1.1.9 2 2 2h14c1.1 0 2-.9 2-2V5c0-1.1-.9-2-2-2zM9 17H7v-7h2v7zm4 0h-2V7h2v10zm4 0h-2v-4h2v4z\"/>\n",
              "    </g>\n",
              "</svg>\n",
              "  </button>\n",
              "\n",
              "<style>\n",
              "  .colab-df-quickchart {\n",
              "      --bg-color: #E8F0FE;\n",
              "      --fill-color: #1967D2;\n",
              "      --hover-bg-color: #E2EBFA;\n",
              "      --hover-fill-color: #174EA6;\n",
              "      --disabled-fill-color: #AAA;\n",
              "      --disabled-bg-color: #DDD;\n",
              "  }\n",
              "\n",
              "  [theme=dark] .colab-df-quickchart {\n",
              "      --bg-color: #3B4455;\n",
              "      --fill-color: #D2E3FC;\n",
              "      --hover-bg-color: #434B5C;\n",
              "      --hover-fill-color: #FFFFFF;\n",
              "      --disabled-bg-color: #3B4455;\n",
              "      --disabled-fill-color: #666;\n",
              "  }\n",
              "\n",
              "  .colab-df-quickchart {\n",
              "    background-color: var(--bg-color);\n",
              "    border: none;\n",
              "    border-radius: 50%;\n",
              "    cursor: pointer;\n",
              "    display: none;\n",
              "    fill: var(--fill-color);\n",
              "    height: 32px;\n",
              "    padding: 0;\n",
              "    width: 32px;\n",
              "  }\n",
              "\n",
              "  .colab-df-quickchart:hover {\n",
              "    background-color: var(--hover-bg-color);\n",
              "    box-shadow: 0 1px 2px rgba(60, 64, 67, 0.3), 0 1px 3px 1px rgba(60, 64, 67, 0.15);\n",
              "    fill: var(--button-hover-fill-color);\n",
              "  }\n",
              "\n",
              "  .colab-df-quickchart-complete:disabled,\n",
              "  .colab-df-quickchart-complete:disabled:hover {\n",
              "    background-color: var(--disabled-bg-color);\n",
              "    fill: var(--disabled-fill-color);\n",
              "    box-shadow: none;\n",
              "  }\n",
              "\n",
              "  .colab-df-spinner {\n",
              "    border: 2px solid var(--fill-color);\n",
              "    border-color: transparent;\n",
              "    border-bottom-color: var(--fill-color);\n",
              "    animation:\n",
              "      spin 1s steps(1) infinite;\n",
              "  }\n",
              "\n",
              "  @keyframes spin {\n",
              "    0% {\n",
              "      border-color: transparent;\n",
              "      border-bottom-color: var(--fill-color);\n",
              "      border-left-color: var(--fill-color);\n",
              "    }\n",
              "    20% {\n",
              "      border-color: transparent;\n",
              "      border-left-color: var(--fill-color);\n",
              "      border-top-color: var(--fill-color);\n",
              "    }\n",
              "    30% {\n",
              "      border-color: transparent;\n",
              "      border-left-color: var(--fill-color);\n",
              "      border-top-color: var(--fill-color);\n",
              "      border-right-color: var(--fill-color);\n",
              "    }\n",
              "    40% {\n",
              "      border-color: transparent;\n",
              "      border-right-color: var(--fill-color);\n",
              "      border-top-color: var(--fill-color);\n",
              "    }\n",
              "    60% {\n",
              "      border-color: transparent;\n",
              "      border-right-color: var(--fill-color);\n",
              "    }\n",
              "    80% {\n",
              "      border-color: transparent;\n",
              "      border-right-color: var(--fill-color);\n",
              "      border-bottom-color: var(--fill-color);\n",
              "    }\n",
              "    90% {\n",
              "      border-color: transparent;\n",
              "      border-bottom-color: var(--fill-color);\n",
              "    }\n",
              "  }\n",
              "</style>\n",
              "\n",
              "  <script>\n",
              "    async function quickchart(key) {\n",
              "      const quickchartButtonEl =\n",
              "        document.querySelector('#' + key + ' button');\n",
              "      quickchartButtonEl.disabled = true;  // To prevent multiple clicks.\n",
              "      quickchartButtonEl.classList.add('colab-df-spinner');\n",
              "      try {\n",
              "        const charts = await google.colab.kernel.invokeFunction(\n",
              "            'suggestCharts', [key], {});\n",
              "      } catch (error) {\n",
              "        console.error('Error during call to suggestCharts:', error);\n",
              "      }\n",
              "      quickchartButtonEl.classList.remove('colab-df-spinner');\n",
              "      quickchartButtonEl.classList.add('colab-df-quickchart-complete');\n",
              "    }\n",
              "    (() => {\n",
              "      let quickchartButtonEl =\n",
              "        document.querySelector('#df-3930fa3d-57f2-4ed9-a849-1acae631cb04 button');\n",
              "      quickchartButtonEl.style.display =\n",
              "        google.colab.kernel.accessAllowed ? 'block' : 'none';\n",
              "    })();\n",
              "  </script>\n",
              "</div>\n",
              "\n",
              "    </div>\n",
              "  </div>\n"
            ],
            "application/vnd.google.colaboratory.intrinsic+json": {
              "type": "dataframe",
              "variable_name": "df",
              "summary": "{\n  \"name\": \"df\",\n  \"rows\": 4009,\n  \"fields\": [\n    {\n      \"column\": \"brand\",\n      \"properties\": {\n        \"dtype\": \"category\",\n        \"num_unique_values\": 57,\n        \"samples\": [\n          \"Ford\",\n          \"Acura\",\n          \"Maserati\"\n        ],\n        \"semantic_type\": \"\",\n        \"description\": \"\"\n      }\n    },\n    {\n      \"column\": \"model\",\n      \"properties\": {\n        \"dtype\": \"category\",\n        \"num_unique_values\": 1898,\n        \"samples\": [\n          \"Expedition King Ranch\",\n          \"Outback 3.0 R VDC Limited\",\n          \"AMG GLC 43 AMG GLC 43\"\n        ],\n        \"semantic_type\": \"\",\n        \"description\": \"\"\n      }\n    },\n    {\n      \"column\": \"model_year\",\n      \"properties\": {\n        \"dtype\": \"number\",\n        \"std\": 6,\n        \"min\": 1974,\n        \"max\": 2024,\n        \"num_unique_values\": 34,\n        \"samples\": [\n          2012,\n          2009,\n          1998\n        ],\n        \"semantic_type\": \"\",\n        \"description\": \"\"\n      }\n    },\n    {\n      \"column\": \"milage\",\n      \"properties\": {\n        \"dtype\": \"string\",\n        \"num_unique_values\": 2818,\n        \"samples\": [\n          \"8,730 mi.\",\n          \"21,404 mi.\",\n          \"53,169 mi.\"\n        ],\n        \"semantic_type\": \"\",\n        \"description\": \"\"\n      }\n    },\n    {\n      \"column\": \"fuel_type\",\n      \"properties\": {\n        \"dtype\": \"category\",\n        \"num_unique_values\": 7,\n        \"samples\": [\n          \"E85 Flex Fuel\",\n          \"Gasoline\",\n          \"\\u2013\"\n        ],\n        \"semantic_type\": \"\",\n        \"description\": \"\"\n      }\n    },\n    {\n      \"column\": \"engine\",\n      \"properties\": {\n        \"dtype\": \"category\",\n        \"num_unique_values\": 1146,\n        \"samples\": [\n          \"2.5L I4 16V PDI DOHC Hybrid\",\n          \"330.0HP 2.0L 4 Cylinder Engine Gasoline Fuel\",\n          \"1.6L I4 16V GDI DOHC Turbo\"\n        ],\n        \"semantic_type\": \"\",\n        \"description\": \"\"\n      }\n    },\n    {\n      \"column\": \"transmission\",\n      \"properties\": {\n        \"dtype\": \"category\",\n        \"num_unique_values\": 62,\n        \"samples\": [\n          \"Automatic, 7-Spd S tronic Dual-Clutch\",\n          \"7-Speed DCT Automatic\",\n          \"6-Speed A/T\"\n        ],\n        \"semantic_type\": \"\",\n        \"description\": \"\"\n      }\n    },\n    {\n      \"column\": \"ext_col\",\n      \"properties\": {\n        \"dtype\": \"category\",\n        \"num_unique_values\": 319,\n        \"samples\": [\n          \"Ibis White\",\n          \"Carbonized Gray Metallic\",\n          \"Beige\"\n        ],\n        \"semantic_type\": \"\",\n        \"description\": \"\"\n      }\n    },\n    {\n      \"column\": \"int_col\",\n      \"properties\": {\n        \"dtype\": \"category\",\n        \"num_unique_values\": 156,\n        \"samples\": [\n          \"Slate\",\n          \"Tan\",\n          \"Almond Beige\"\n        ],\n        \"semantic_type\": \"\",\n        \"description\": \"\"\n      }\n    },\n    {\n      \"column\": \"accident\",\n      \"properties\": {\n        \"dtype\": \"category\",\n        \"num_unique_values\": 2,\n        \"samples\": [\n          \"None reported\",\n          \"At least 1 accident or damage reported\"\n        ],\n        \"semantic_type\": \"\",\n        \"description\": \"\"\n      }\n    },\n    {\n      \"column\": \"clean_title\",\n      \"properties\": {\n        \"dtype\": \"category\",\n        \"num_unique_values\": 1,\n        \"samples\": [\n          \"Yes\"\n        ],\n        \"semantic_type\": \"\",\n        \"description\": \"\"\n      }\n    },\n    {\n      \"column\": \"price\",\n      \"properties\": {\n        \"dtype\": \"category\",\n        \"num_unique_values\": 1569,\n        \"samples\": [\n          \"$44,600\"\n        ],\n        \"semantic_type\": \"\",\n        \"description\": \"\"\n      }\n    }\n  ]\n}"
            }
          },
          "metadata": {},
          "execution_count": 10
        }
      ]
    },
    {
      "cell_type": "code",
      "source": [
        "#Verificar se há dados nulos (dados em falta)\n",
        "df.isnull().sum()"
      ],
      "metadata": {
        "colab": {
          "base_uri": "https://localhost:8080/"
        },
        "id": "TE0PyQ5yF3mM",
        "outputId": "dc5f585e-530c-4b25-bd85-8f3ed3f9a33d"
      },
      "execution_count": null,
      "outputs": [
        {
          "output_type": "execute_result",
          "data": {
            "text/plain": [
              "brand             0\n",
              "model             0\n",
              "model_year        0\n",
              "milage            0\n",
              "fuel_type       170\n",
              "engine            0\n",
              "transmission      0\n",
              "ext_col           0\n",
              "int_col           0\n",
              "accident        113\n",
              "clean_title     596\n",
              "price             0\n",
              "dtype: int64"
            ]
          },
          "metadata": {},
          "execution_count": 11
        }
      ]
    },
    {
      "cell_type": "markdown",
      "source": [
        "#Numa vista rápida notamos alguns probleminhas com os dados:\n",
        "1. A quilometragem (`milage`) apresenta um padrão não numérico, porém a natureza é numérica.\n",
        "2. `fuel_type`,`accident`,`clean_title` contêm valores nulos.\n",
        "3. O preço (`price`) tem um padrão não numérico, por exemplo $100,00\n",
        "4. O motor (`engine`) possuir\n"
      ],
      "metadata": {
        "id": "uop02bRYHwOq"
      }
    },
    {
      "cell_type": "code",
      "source": [
        "#função utilitária\n",
        "def formatar_para_numero(price):\n",
        "    # Encontra a última vírgula e a substitui por um ponto\n",
        "    if ',' in price:\n",
        "        *parts, last_part = price.split(',')\n",
        "        return ''.join(parts) + '.' + last_part\n",
        "    return price\n",
        "\n",
        "def codificar_coluna_baseado_em_preco(Dframe, x):\n",
        "    encode_to_num = {}\n",
        "    val = 0\n",
        "    for i in Dframe.groupby(x)[[\"price\"]].median().sort_values([\"price\"], ascending = True).index:\n",
        "        encode_to_num[i] = val\n",
        "        val += 1\n",
        "    print(val, \"Valores codificados\")\n",
        "    return Dframe[x].map(encode_to_num), encode_to_num\n",
        "\n",
        "def str_len(x):\n",
        "    v = x.split()\n",
        "    return len(v)"
      ],
      "metadata": {
        "id": "cxdtBTlpTFFj"
      },
      "execution_count": null,
      "outputs": []
    },
    {
      "cell_type": "code",
      "source": [
        "#Sobre o preço, podemos substituir o $\n",
        "df[\"price\"] = df[\"price\"].apply(lambda x: x.replace('$',''))\n",
        "\n",
        "#Devemos substituir a vírgula por ponto\n",
        "df[\"price\"] = df[\"price\"].apply(formatar_para_numero)\n",
        "\n",
        "#Por fim vamos transformar em numérico float (Já que é um tipo de dado numérico de ponto flutuante)\n",
        "df[\"price\"] = df[\"price\"].apply(lambda x: float(x))\n",
        "\n",
        "#Vamos verificar o que temos\n",
        "print(df[\"price\"].head())"
      ],
      "metadata": {
        "colab": {
          "base_uri": "https://localhost:8080/"
        },
        "id": "c_uFXgEwPZgS",
        "outputId": "31061790-a55a-440f-f469-2bbdd87547a2"
      },
      "execution_count": null,
      "outputs": [
        {
          "output_type": "stream",
          "name": "stdout",
          "text": [
            "0    10.300\n",
            "1    38.005\n",
            "2    54.598\n",
            "3    15.500\n",
            "4    34.999\n",
            "Name: price, dtype: float64\n"
          ]
        }
      ]
    },
    {
      "cell_type": "markdown",
      "source": [
        "#EDA"
      ],
      "metadata": {
        "id": "lBHnSheNUCFt"
      }
    },
    {
      "cell_type": "code",
      "source": [
        "df.info()"
      ],
      "metadata": {
        "colab": {
          "base_uri": "https://localhost:8080/"
        },
        "id": "WXTGVrCkUDuM",
        "outputId": "190dd754-a574-4117-83e4-3b71904e785f"
      },
      "execution_count": null,
      "outputs": [
        {
          "output_type": "stream",
          "name": "stdout",
          "text": [
            "<class 'pandas.core.frame.DataFrame'>\n",
            "RangeIndex: 4009 entries, 0 to 4008\n",
            "Data columns (total 12 columns):\n",
            " #   Column        Non-Null Count  Dtype  \n",
            "---  ------        --------------  -----  \n",
            " 0   brand         4009 non-null   object \n",
            " 1   model         4009 non-null   object \n",
            " 2   model_year    4009 non-null   int64  \n",
            " 3   milage        4009 non-null   object \n",
            " 4   fuel_type     3839 non-null   object \n",
            " 5   engine        4009 non-null   object \n",
            " 6   transmission  4009 non-null   object \n",
            " 7   ext_col       4009 non-null   object \n",
            " 8   int_col       4009 non-null   object \n",
            " 9   accident      3896 non-null   object \n",
            " 10  clean_title   3413 non-null   object \n",
            " 11  price         4009 non-null   float64\n",
            "dtypes: float64(1), int64(1), object(10)\n",
            "memory usage: 376.0+ KB\n"
          ]
        }
      ]
    },
    {
      "cell_type": "code",
      "source": [
        "#Vamos tratar milage, lembra do padrão\n",
        "#Primeiro vamos retirar a unidade do milage\n",
        "df[\"milage\"] = df[\"milage\"].apply(lambda x: x.split(' ')[0])\n",
        "\n",
        "#Agora vamos transformar em dado numérico\n",
        "df[\"milage\"] = df[\"milage\"].apply(formatar_para_numero)\n",
        "\n",
        "#Por fim vamos transformar em numérico float (Já que é um tipo de dado numérico de ponto flutuante)\n",
        "df[\"milage\"] = df[\"milage\"].apply(lambda x: float(x))\n",
        "\n",
        "#Vamos verificar o que temos\n",
        "print(df[\"milage\"])"
      ],
      "metadata": {
        "colab": {
          "base_uri": "https://localhost:8080/"
        },
        "id": "beX1IjzfV0fM",
        "outputId": "3a32faf9-d95c-479f-d294-17dd0a61222d"
      },
      "execution_count": null,
      "outputs": [
        {
          "output_type": "stream",
          "name": "stdout",
          "text": [
            "0        51.000\n",
            "1        34.742\n",
            "2        22.372\n",
            "3        88.900\n",
            "4         9.835\n",
            "         ...   \n",
            "4004    714.000\n",
            "4005     10.900\n",
            "4006      2.116\n",
            "4007     33.000\n",
            "4008     43.000\n",
            "Name: milage, Length: 4009, dtype: float64\n"
          ]
        }
      ]
    },
    {
      "cell_type": "code",
      "source": [
        "#Não vamos nos esquecer dum mal que temos com o tipo de combustível (fuel_type)\n",
        "#Contém valores em falta(nulos), ora vejamos:\n",
        "df.fuel_type.isna().sum()\n",
        "#Eish! São 170 valores"
      ],
      "metadata": {
        "colab": {
          "base_uri": "https://localhost:8080/"
        },
        "id": "3-TEk5wCXODH",
        "outputId": "cd979dff-2321-45a5-f385-c9dc401b18ad"
      },
      "execution_count": null,
      "outputs": [
        {
          "output_type": "execute_result",
          "data": {
            "text/plain": [
              "170"
            ]
          },
          "metadata": {},
          "execution_count": 103
        }
      ]
    },
    {
      "cell_type": "code",
      "source": [
        "sns.boxplot(x = df.fuel_type, y = np.log10(df.price))\n",
        "plt.xticks(rotation = 45)\n",
        "plt.show()"
      ],
      "metadata": {
        "id": "w-TfFkSgXeDq"
      },
      "execution_count": null,
      "outputs": []
    },
    {
      "cell_type": "code",
      "source": [
        "#Vamos codificar o fuel_type baseando-se ao preço\n",
        "\n",
        "df['fuel_type_codificado'],map_fuel_type = codificar_coluna_baseado_em_preco(df,\"fuel_type\")"
      ],
      "metadata": {
        "colab": {
          "base_uri": "https://localhost:8080/"
        },
        "id": "Dtz2s7NwYX2D",
        "outputId": "ee1ddd82-e4f8-429f-95ed-7fcac08e6b2b"
      },
      "execution_count": null,
      "outputs": [
        {
          "output_type": "stream",
          "name": "stdout",
          "text": [
            "7 Valores codificados\n"
          ]
        }
      ]
    },
    {
      "cell_type": "code",
      "source": [
        "#Note que ainda temos os valores nulos (isso era esperado, pois simplesmente coficamos os dados)\n",
        "df['fuel_type_codificado'].isnull().sum()"
      ],
      "metadata": {
        "colab": {
          "base_uri": "https://localhost:8080/"
        },
        "id": "h7-H3wOoXqew",
        "outputId": "3200ab13-b7b1-4769-ab4d-d3d467d12dc3"
      },
      "execution_count": null,
      "outputs": [
        {
          "output_type": "execute_result",
          "data": {
            "text/plain": [
              "170"
            ]
          },
          "metadata": {},
          "execution_count": 105
        }
      ]
    },
    {
      "cell_type": "code",
      "source": [
        "#Falta mais um golpe que isso vai cair em terra!\n",
        "#Para os valores nulos, vamos substituir pela sua mediana\n",
        "freq_imputer = SimpleImputer(strategy = \"median\")\n",
        "# Outras estratégias podiam ser: “mean”, “median”, “constant”... Tenta alguma delas para ver se o modelo melhora.\n",
        "\n",
        "df[\"fuel_type_codificado\"] = pd.DataFrame(freq_imputer.fit_transform(pd.DataFrame(df[\"fuel_type_codificado\"])))"
      ],
      "metadata": {
        "id": "ZoxKHNVQbIzf"
      },
      "execution_count": null,
      "outputs": []
    },
    {
      "cell_type": "code",
      "source": [
        "#Txeka lá agora!\n",
        "df['fuel_type_codificado'].isnull().sum()\n",
        "#Sim, zero valores nulos kkk"
      ],
      "metadata": {
        "colab": {
          "base_uri": "https://localhost:8080/"
        },
        "id": "-z-_Ylwdbqt_",
        "outputId": "a79fdefb-3632-4e15-abd1-ebe43a6caa92"
      },
      "execution_count": null,
      "outputs": [
        {
          "output_type": "execute_result",
          "data": {
            "text/plain": [
              "0"
            ]
          },
          "metadata": {},
          "execution_count": 107
        }
      ]
    },
    {
      "cell_type": "code",
      "source": [
        "#A dor de cabeça mesmo está em engine... Isso dói mexer!\n",
        "#Temos quantos motores mesmo?\n",
        "num_engine = df[\"engine\"].nunique()\n",
        "print(f\"Temos {num_engine} motores\")"
      ],
      "metadata": {
        "colab": {
          "base_uri": "https://localhost:8080/"
        },
        "id": "GYCKglw5byak",
        "outputId": "52f4801b-6ed2-44de-cbb9-fab1f5f33eff"
      },
      "execution_count": null,
      "outputs": [
        {
          "output_type": "stream",
          "name": "stdout",
          "text": [
            "Temos 1146 motores\n"
          ]
        }
      ]
    },
    {
      "cell_type": "markdown",
      "source": [
        "Mas lembra que os motores estão num formato terrível. Isso significa que é complicado para o nosso modelo extrair o máximo proveito dessa feature.\n",
        "Por exemplo, podemos ter valores como estes:\n",
        "1. `300.0HP 3.7L V6 Cylinder Engine Flex Fuel Capability`\n",
        "2. `2.0L I4 16V GDI DOHC Turbo`\n",
        "3. `2.4 Liter`\n",
        "4. `V6`"
      ],
      "metadata": {
        "id": "3QIslIugc99f"
      }
    },
    {
      "cell_type": "code",
      "source": [
        "df[\"engine_tamanho_texto\"] = df[\"engine\"].apply(str_len)"
      ],
      "metadata": {
        "id": "s1E-_TbtcdU1"
      },
      "execution_count": null,
      "outputs": []
    },
    {
      "cell_type": "code",
      "source": [
        "#Vamos criar métodos que possam lidar com essas informaçẽs. Seria bom separararmos esses dados colocando em novas colunas.\n",
        "def eh_numerico(string):\n",
        "    try:\n",
        "        float(string)\n",
        "        return True\n",
        "    except ValueError:\n",
        "        return False\n",
        "\n",
        "def split_engine(x):\n",
        "    vals = x.split()\n",
        "\n",
        "    hp, l, is_cyl, is_straight, is_flat = 0, 0, 0, 0, 0\n",
        "    for i in range(len(vals)):\n",
        "        if \"HP\" in vals[i]:\n",
        "            hp = float(vals[i].split(\"HP\")[0])\n",
        "        if \"L\" in vals[i]:\n",
        "            if eh_numerico(vals[i].split(\"L\")[0]):\n",
        "                l = float(vals[i].split(\"L\")[0])\n",
        "        if \"Cylinder\" in vals[i]:\n",
        "            is_cyl = 1\n",
        "        if \"Straight\" in vals[i]:\n",
        "            is_straight = 1\n",
        "        if \"Flat\" in vals[i]:\n",
        "            is_flat = 1\n",
        "\n",
        "    return hp,l, is_cyl, is_straight, is_flat\n",
        "df[\"HP\"], df[\"Liters\"], df[\"Cylinder\"], df[\"Straight\"], df[\"Flat\"] = zip(*df['engine'].apply(split_engine))"
      ],
      "metadata": {
        "id": "XNHUm1ApeVhC"
      },
      "execution_count": null,
      "outputs": []
    },
    {
      "cell_type": "markdown",
      "source": [
        "HP: Potência do motor em cavalos.\n",
        "Liters: Deslocamento do motor em litros.\n",
        "Cylinder: Número de cilindros do motor.\n",
        "Straight: Configuração do motor em linha.\n",
        "Flat: Configuração do motor plano."
      ],
      "metadata": {
        "id": "SaHjqFQtl8f8"
      }
    },
    {
      "cell_type": "code",
      "source": [
        "#Então agora podemos verificar as alterações. Comecemos pelo HP - Horse power\n",
        "sns.histplot(df.HP)"
      ],
      "metadata": {
        "id": "C03VsThSjQZ7"
      },
      "execution_count": null,
      "outputs": []
    },
    {
      "cell_type": "code",
      "source": [
        "sns.histplot(df.Liters)"
      ],
      "metadata": {
        "id": "kJUdi-ITj1ax"
      },
      "execution_count": null,
      "outputs": []
    },
    {
      "cell_type": "code",
      "source": [
        "sns.histplot(df.Cylinder)"
      ],
      "metadata": {
        "id": "55sqTXjcjicF"
      },
      "execution_count": null,
      "outputs": []
    },
    {
      "cell_type": "code",
      "source": [
        "sns.histplot(df.Straight)"
      ],
      "metadata": {
        "id": "1QA0DQzIkh1Z"
      },
      "execution_count": null,
      "outputs": []
    },
    {
      "cell_type": "code",
      "source": [
        "numerical_columns = ['model_year','milage','HP','Liters','Cylinder','Straight','Flat','price']\n",
        "\n",
        "plt.figure(figsize=(15, 10))\n",
        "sns.heatmap(df[numerical_columns].corr(), annot=True)"
      ],
      "metadata": {
        "colab": {
          "base_uri": "https://localhost:8080/",
          "height": 750
        },
        "id": "bdxYBQoKuPLa",
        "outputId": "af6a545a-cee7-4b55-a2b4-665e06ea9af2"
      },
      "execution_count": null,
      "outputs": [
        {
          "output_type": "execute_result",
          "data": {
            "text/plain": [
              "<Axes: >"
            ]
          },
          "metadata": {},
          "execution_count": 112
        },
        {
          "output_type": "display_data",
          "data": {
            "text/plain": [
              "<Figure size 1500x1000 with 2 Axes>"
            ],
            "image/png": "[encoded data removed]"
          },
          "metadata": {}
        }
      ]
    },
    {
      "cell_type": "code",
      "source": [
        "df.info()"
      ],
      "metadata": {
        "colab": {
          "base_uri": "https://localhost:8080/"
        },
        "id": "OQl9c0w2JJyA",
        "outputId": "bdb67978-9e06-4a73-9a5c-94c0ff68e71e"
      },
      "execution_count": null,
      "outputs": [
        {
          "output_type": "stream",
          "name": "stdout",
          "text": [
            "<class 'pandas.core.frame.DataFrame'>\n",
            "RangeIndex: 4009 entries, 0 to 4008\n",
            "Data columns (total 19 columns):\n",
            " #   Column                Non-Null Count  Dtype  \n",
            "---  ------                --------------  -----  \n",
            " 0   brand                 4009 non-null   object \n",
            " 1   model                 4009 non-null   object \n",
            " 2   model_year            4009 non-null   int64  \n",
            " 3   milage                4009 non-null   float64\n",
            " 4   fuel_type             3839 non-null   object \n",
            " 5   engine                4009 non-null   object \n",
            " 6   transmission          4009 non-null   object \n",
            " 7   ext_col               4009 non-null   object \n",
            " 8   int_col               4009 non-null   object \n",
            " 9   accident              3896 non-null   object \n",
            " 10  clean_title           3413 non-null   object \n",
            " 11  price                 4009 non-null   float64\n",
            " 12  fuel_type_codificado  4009 non-null   float64\n",
            " 13  engine_tamanho_texto  4009 non-null   int64  \n",
            " 14  HP                    4009 non-null   float64\n",
            " 15  Liters                4009 non-null   float64\n",
            " 16  Cylinder              4009 non-null   int64  \n",
            " 17  Straight              4009 non-null   int64  \n",
            " 18  Flat                  4009 non-null   int64  \n",
            "dtypes: float64(5), int64(5), object(9)\n",
            "memory usage: 595.2+ KB\n"
          ]
        }
      ]
    },
    {
      "cell_type": "markdown",
      "source": [
        "**TRAIN**"
      ],
      "metadata": {
        "id": "hBHIw3-0Z7G_"
      }
    },
    {
      "cell_type": "code",
      "source": [
        "categorical_columns = ['milage', 'fuel_type_codificado', 'HP', 'Liters', 'model', 'brand', 'fuel_type', 'engine', 'transmission', 'ext_col', 'int_col', 'accident', 'clean_title']"
      ],
      "metadata": {
        "id": "CrIYrlcJIAUT"
      },
      "execution_count": null,
      "outputs": []
    },
    {
      "cell_type": "markdown",
      "source": [],
      "metadata": {
        "id": "M5tGX7zzW1s0"
      }
    },
    {
      "cell_type": "code",
      "source": [
        "df2 = df.copy()"
      ],
      "metadata": {
        "id": "k324U5lRRW2N"
      },
      "execution_count": null,
      "outputs": []
    },
    {
      "cell_type": "code",
      "source": [
        "label_encoder = LabelEncoder()\n",
        "for col in categorical_columns:\n",
        "  df2[col] = label_encoder.fit_transform(df2[col])"
      ],
      "metadata": {
        "id": "8Xd15HjoJqJZ"
      },
      "execution_count": null,
      "outputs": []
    },
    {
      "cell_type": "code",
      "source": [
        "x_train,x_test,y_train_,y_test = train_test_split(df2, df2['price'], test_size=0.2, random_state=42)"
      ],
      "metadata": {
        "id": "ezPg55PpJ0Vg"
      },
      "execution_count": null,
      "outputs": []
    },
    {
      "cell_type": "code",
      "source": [
        "x_train = x_train.drop(['price'], axis=1)\n",
        "x_test = x_test.drop(['price'], axis=1)"
      ],
      "metadata": {
        "id": "6mDk8M5XM6q0"
      },
      "execution_count": null,
      "outputs": []
    },
    {
      "cell_type": "code",
      "source": [
        "scaler = StandardScaler()\n",
        "X_train = scaler.fit_transform(x_train)\n",
        "X_test = scaler.transform(x_test)"
      ],
      "metadata": {
        "id": "zafsWBSSx8aJ"
      },
      "execution_count": null,
      "outputs": []
    },
    {
      "cell_type": "code",
      "source": [
        "model = LinearRegression()\n",
        "model.fit(X_train, y_train_)\n",
        "y_pred = model.predict(X_test)\n",
        "accuracy = model.score(X_test, y_test)\n",
        "print(\"AC: \", accuracy*100)"
      ],
      "metadata": {
        "id": "jswZVpkMNzu2"
      },
      "execution_count": null,
      "outputs": []
    },
    {
      "cell_type": "code",
      "source": [
        "model2 = LogisticRegression()\n",
        "model2.fit(X_train, y_train_)\n",
        "accuracy2 = model2.score(X_test, y_test)\n",
        "print(\"AC: \", accuracy2)"
      ],
      "metadata": {
        "colab": {
          "base_uri": "https://localhost:8080/"
        },
        "id": "ob7R0XkORvJY",
        "outputId": "b9e9941f-5471-43f2-8dd5-9198eeb6ce41"
      },
      "execution_count": null,
      "outputs": [
        {
          "output_type": "stream",
          "name": "stdout",
          "text": [
            "AC:  0.008728179551122194\n"
          ]
        }
      ]
    },
    {
      "cell_type": "markdown",
      "source": [
        "**KFOLD**"
      ],
      "metadata": {
        "id": "CZ28CyhwaEL8"
      }
    },
    {
      "source": [
        "from sklearn.model_selection import KFold\n",
        "# Criando o objeto KFold com 5 folds\n",
        "kf = KFold(n_splits=5, shuffle=True, random_state=42)  # shuffle=True embaralha os dados antes de dividir\n",
        "\n",
        "# Iterando sobre os folds e treinando/avaliando o modelo\n",
        "for train_index, test_index in kf.split(X_train):\n",
        "    X_train_fold, X_test_fold = X_train[train_index], X_train[test_index]\n",
        "\n",
        "    y_train_fold, y_test_fold = y_train_.iloc[train_index], y_train_.iloc[test_index]\n",
        "\n",
        "    # Treinando o modelo no conjunto de treinamento do fold\n",
        "    model.fit(X_train_fold, y_train_fold)\n",
        "\n",
        "    # Avaliando o modelo no conjunto de teste do fold\n",
        "    y_pred_fold = model.predict(X_test_fold)\n",
        "    accuracy_fold = model.score(X_test_fold, y_test_fold)\n",
        "    print(\"Acurácia no fold:\", accuracy_fold)"
      ],
      "cell_type": "code",
      "metadata": {
        "colab": {
          "base_uri": "https://localhost:8080/"
        },
        "id": "PuqdnjhNUpVl",
        "outputId": "37531c04-42a2-447e-b9bb-917e5de5063e"
      },
      "execution_count": null,
      "outputs": [
        {
          "output_type": "stream",
          "name": "stdout",
          "text": [
            "Acurácia no fold: 0.7752339261171425\n",
            "Acurácia no fold: 0.7524094478363532\n",
            "Acurácia no fold: 0.7572147970144819\n",
            "Acurácia no fold: 0.7467817335124194\n",
            "Acurácia no fold: 0.7731238390964312\n"
          ]
        }
      ]
    },
    {
      "cell_type": "code",
      "source": [
        "    accuracy = model.score(X_test, y_test)\n",
        "    print(\"Acurácia no fold:\", accuracy*100)"
      ],
      "metadata": {
        "colab": {
          "base_uri": "https://localhost:8080/"
        },
        "id": "_yQ-PPosWBTq",
        "outputId": "d371f425-2893-4757-880b-9bb9a945755a"
      },
      "execution_count": null,
      "outputs": [
        {
          "output_type": "stream",
          "name": "stdout",
          "text": [
            "Acurácia no fold: 75.9663860504078\n"
          ]
        }
      ]
    }
  ]
}